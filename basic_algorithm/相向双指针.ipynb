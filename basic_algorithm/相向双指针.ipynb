{
 "cells": [
  {
   "cell_type": "markdown",
   "metadata": {},
   "source": [
    "# 相向双指针\n",
    "\n",
    "|                             题目                             | 难度 |  #   | 难度分 |                          解法思路                          |\n",
    "| :----------------------------------------------------------: | :--: | :--: | :----: | :--------------------------------------------------------: |\n",
    "| [167. 两数之和 II - 输入有序数组](https://leetcode.cn/problems/two-sum-ii-input-array-is-sorted/) | 中等 |  -   |   -    |                         **双指针**                         |\n",
    "|      [15. 三数之和](https://leetcode.cn/problems/3sum/)      | 中等 |  -   |   -    |       固定一个数，转化为**两数之和**，注意两个trick        |\n",
    "| [2824. 统计和小于目标的下标对数目](https://leetcode.cn/problems/count-pairs-whose-sum-is-less-than-target/) | 简单 |  Q1  |  1165  |                基于**三数之和**，修改增加量                |\n",
    "| [16. 最接近的三数之和](https://leetcode.cn/problems/3sum-closest/) | 中等 |  -   |   -    |                 基于**三数之和**，考虑差值                 |\n",
    "|      [18. 四数之和](https://leetcode.cn/problems/4sum/)      | 中等 |  -   |   -    |         固定一个数，转化为**三数之和**，注意trick          |\n",
    "| [611. 有效三角形的个数](https://leetcode.cn/problems/valid-triangle-number/) | 中等 |  -   |   -    |         固定最大边，**两短边双指针**，类似【2824】         |\n",
    "| [11. 盛最多水的容器](https://leetcode.cn/problems/container-with-most-water/) | 中等 |  -   |   -    |             相向**双指针**，固定长板，移动短板             |\n",
    "| [42. 接雨水](https://leetcode.cn/problems/trapping-rain-water/) | 困难 |  -   |   -    | 基于**前后缀分解**，用**双指针**遍历，两个变量记录前后缀和 |"
   ]
  }
 ],
 "metadata": {
  "language_info": {
   "name": "python"
  }
 },
 "nbformat": 4,
 "nbformat_minor": 2
}
